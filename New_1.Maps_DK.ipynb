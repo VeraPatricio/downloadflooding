{
 "cells": [
  {
   "cell_type": "markdown",
   "metadata": {},
   "source": [
    "# Flooding Maps Denmark"
   ]
  },
  {
   "cell_type": "code",
   "execution_count": 1,
   "metadata": {},
   "outputs": [],
   "source": [
    "import pandas as pd\n",
    "from tqdm import tqdm\n",
    "import os \n",
    "\n",
    "import rasterio\n",
    "from owslib.wms import WebMapService\n",
    "\n",
    "from climatemapping.maps import check_layer_number,download_map\n",
    "from climatemapping.maps import save_merged_map"
   ]
  },
  {
   "cell_type": "markdown",
   "metadata": {},
   "source": [
    "## Download data\n",
    "\n",
    "**Right now this is an issue because we do not have access to the data at Danske Bank due to firewall protection. I've done it in my personal computer and then download it from my github account**\n",
    "\n",
    "The code is available here in DownloadData.ipynb\n",
    "\n",
    "https://notebooks.gesis.org/binder/v2/gh/VeraPatricio/floodingDK/master"
   ]
  },
  {
   "cell_type": "markdown",
   "metadata": {},
   "source": [
    "## Data from 2019\n",
    "\n",
    "This is for only one scenario (1/1000 years floods) but includes all Denmark\n",
    "\n",
    "https://gis.nst.dk/server/services/ekstern/OSD_2016_2021_Plantrin1_Endelige_data/MapServer/WMSServer?SERVICE=WMS&VERSION=1.3.0&REQUEST=GetCapabilities\n",
    " \n",
    "There are several layers in this one, but the two that covers all of Denmark for an extreme flooding is\n",
    "\n",
    "-          Fare fra hav (ekstrem hændelse)\n",
    "-          Fare fra vandløb (1000 år)"
   ]
  },
  {
   "cell_type": "code",
   "execution_count": 2,
   "metadata": {},
   "outputs": [
    {
     "name": "stdout",
     "output_type": "stream",
     "text": [
      "0                         Hovedvandoplande ['EPSG:4326', 'EPSG:25832']\n",
      "1                     Vandområdedistrekter ['EPSG:4326', 'EPSG:25832']\n",
      "2                           Kommunegrænser ['EPSG:4326', 'EPSG:25832']\n",
      "3      Potentielt Forurenende Virksomheder ['EPSG:4326', 'EPSG:25832']\n",
      "4                      Økonomisk Aktivitet ['EPSG:4326', 'EPSG:25832']\n",
      "5                                Kulturarv ['EPSG:4326', 'EPSG:25832']\n",
      "6                    Kritisk Infrastruktur ['EPSG:4326', 'EPSG:25832']\n",
      "7                            Infrastruktur ['EPSG:4326', 'EPSG:25832']\n",
      "8                                Beredskab ['EPSG:4326', 'EPSG:25832']\n",
      "9                               Befolkning ['EPSG:4326', 'EPSG:25832']\n",
      "10                          Arealanvendelse ['EPSG:4326', 'EPSG:25832']\n",
      "11               Fare fra vandløb (1000 år) ['EPSG:4326', 'EPSG:25832']\n",
      "12          Fare fra hav (ekstrem hændelse) ['EPSG:4326', 'EPSG:25832']\n",
      "13                         Samlet sårbarhed ['EPSG:4326', 'EPSG:25832']\n",
      "14                       Risiko for vandløb ['EPSG:4326', 'EPSG:25832']\n",
      "15                           Risiko for hav ['EPSG:4326', 'EPSG:25832']\n",
      "17                   Risikoområder_Aabenraa ['EPSG:4326', 'EPSG:25832']\n",
      "18                Risikoområder_Vordingborg ['EPSG:4326', 'EPSG:25832']\n",
      "19                      Risikoområder_Vejle ['EPSG:4326', 'EPSG:25832']\n",
      "20                 Risikoområder_Sydlolland ['EPSG:4326', 'EPSG:25832']\n",
      "21              Risikoområder_Randers_Fjord ['EPSG:4326', 'EPSG:25832']\n",
      "22               Risikoområder_Odense_Fjord ['EPSG:4326', 'EPSG:25832']\n",
      "23                     Risikoområder_Nyborg ['EPSG:4326', 'EPSG:25832']\n",
      "24                     Risikoområder_Korsor ['EPSG:4326', 'EPSG:25832']\n",
      "25                    Risikoområder_Kolding ['EPSG:4326', 'EPSG:25832']\n",
      "26        Risikoområder_Koge_Bugt_Kobenhavn ['EPSG:4326', 'EPSG:25832']\n",
      "27                 Risikoområder_Juelsminde ['EPSG:4326', 'EPSG:25832']\n",
      "28                  Risikoområder_Holstebro ['EPSG:4326', 'EPSG:25832']\n",
      "29                 Risikoområder_Fredericia ['EPSG:4326', 'EPSG:25832']\n",
      "30                    Risikoområder_Esbjerg ['EPSG:4326', 'EPSG:25832']\n",
      "31                  Risikoområder Forenklet ['EPSG:4326', 'EPSG:25832']\n"
     ]
    }
   ],
   "source": [
    "url_2019 = 'https://gis.nst.dk/server/services/ekstern/OSD_2016_2021_Plantrin1_Endelige_data/MapServer'\n",
    "wms_2019= WebMapService(url_2019+'/WMSServer')\n",
    "\n",
    "for layer_nb in wms_2019.contents:\n",
    "    print('%s %40s %s'%(layer_nb,wms_2019[layer_nb].title,wms_2019[layer_nb].crsOptions))"
   ]
  },
  {
   "cell_type": "markdown",
   "metadata": {},
   "source": [
    "Download Data"
   ]
  },
  {
   "cell_type": "code",
   "execution_count": 3,
   "metadata": {},
   "outputs": [
    {
     "name": "stdout",
     "output_type": "stream",
     "text": [
      "Saved FloodingMaps/FloodingDK2019/Fare fra vandløb (1000 år).png\n",
      "Saved FloodingMaps/FloodingDK2019/Fare fra hav (ekstrem hændelse).png\n"
     ]
    }
   ],
   "source": [
    "file_name_list = []\n",
    "bbox_list = []\n",
    "\n",
    "dir_path = 'FloodingMaps/FloodingDK2019/'\n",
    "if not os.path.exists(dir_path):\n",
    "    os.makedirs(dir_path)\n",
    "\n",
    "file_name,bbox = download_map(url_2019,layer='11',size=(4000,4000),crs='EPSG:4326',output_dir=dir_path)\n",
    "file_name_list.append(file_name)\n",
    "bbox_list.append(bbox)\n",
    "                                \n",
    "file_name,bbox = download_map(url_2019,layer='12',size=(4000,4000),crs='EPSG:4326',output_dir=dir_path)\n",
    "file_name_list.append(file_name)\n",
    "bbox_list.append(bbox)   "
   ]
  },
  {
   "cell_type": "markdown",
   "metadata": {},
   "source": [
    "## Merge two maps (costal and river flooding) into one"
   ]
  },
  {
   "cell_type": "code",
   "execution_count": 4,
   "metadata": {},
   "outputs": [],
   "source": [
    "bbox_merged = save_merged_map(['FloodingMaps/FloodingDK2019/Fare fra hav (ekstrem hændelse)_georef.png',\n",
    "                               'FloodingMaps/FloodingDK2019/Fare fra vandløb (1000 år)_georef.png'],\n",
    "                                resolution=None, # keeps the original\n",
    "                                out_file='FloodingMaps/FloodingDK2019/Fare_Hav_og_Vanlob_1000ar')\n",
    "file_name_list.append('FloodingMaps/FloodingDK2019/Fare_Hav_og_Vanlob_1000ar.png')\n",
    "bbox_list.append(bbox_merged)"
   ]
  },
  {
   "cell_type": "markdown",
   "metadata": {},
   "source": [
    "Save file with files names and bbox"
   ]
  },
  {
   "cell_type": "code",
   "execution_count": 5,
   "metadata": {},
   "outputs": [
    {
     "data": {
      "text/html": [
       "<div>\n",
       "<style scoped>\n",
       "    .dataframe tbody tr th:only-of-type {\n",
       "        vertical-align: middle;\n",
       "    }\n",
       "\n",
       "    .dataframe tbody tr th {\n",
       "        vertical-align: top;\n",
       "    }\n",
       "\n",
       "    .dataframe thead th {\n",
       "        text-align: right;\n",
       "    }\n",
       "</style>\n",
       "<table border=\"1\" class=\"dataframe\">\n",
       "  <thead>\n",
       "    <tr style=\"text-align: right;\">\n",
       "      <th></th>\n",
       "      <th>scenario</th>\n",
       "      <th>file</th>\n",
       "      <th>geo_zone</th>\n",
       "      <th>bbox</th>\n",
       "    </tr>\n",
       "  </thead>\n",
       "  <tbody>\n",
       "    <tr>\n",
       "      <th>0</th>\n",
       "      <td>2019</td>\n",
       "      <td>FloodingMaps/FloodingDK2019/Fare fra vandløb (...</td>\n",
       "      <td>DK</td>\n",
       "      <td>(8.019848, 54.445098, 15.562142, 57.653192)</td>\n",
       "    </tr>\n",
       "    <tr>\n",
       "      <th>1</th>\n",
       "      <td>2019</td>\n",
       "      <td>FloodingMaps/FloodingDK2019/Fare fra hav (ekst...</td>\n",
       "      <td>DK</td>\n",
       "      <td>(8.008285, 54.435388, 15.599735, 57.769964)</td>\n",
       "    </tr>\n",
       "    <tr>\n",
       "      <th>2</th>\n",
       "      <td>2019</td>\n",
       "      <td>FloodingMaps/FloodingDK2019/Fare_Hav_og_Vanlob...</td>\n",
       "      <td>DK</td>\n",
       "      <td>(8.008285, 54.435388, 15.599735, 57.769964)</td>\n",
       "    </tr>\n",
       "  </tbody>\n",
       "</table>\n",
       "</div>"
      ],
      "text/plain": [
       "  scenario                                               file geo_zone  \\\n",
       "0     2019  FloodingMaps/FloodingDK2019/Fare fra vandløb (...       DK   \n",
       "1     2019  FloodingMaps/FloodingDK2019/Fare fra hav (ekst...       DK   \n",
       "2     2019  FloodingMaps/FloodingDK2019/Fare_Hav_og_Vanlob...       DK   \n",
       "\n",
       "                                          bbox  \n",
       "0  (8.019848, 54.445098, 15.562142, 57.653192)  \n",
       "1  (8.008285, 54.435388, 15.599735, 57.769964)  \n",
       "2  (8.008285, 54.435388, 15.599735, 57.769964)  "
      ]
     },
     "execution_count": 5,
     "metadata": {},
     "output_type": "execute_result"
    }
   ],
   "source": [
    "df_png = pd.DataFrame({'scenario':['2019']*3,\n",
    "                       'file':file_name_list,\n",
    "                       'geo_zone':['DK']*3,\n",
    "                       'bbox':bbox_list})\n",
    "df_png.to_csv('map_list_DK_2019')\n",
    "df_png.tail(100)"
   ]
  },
  {
   "cell_type": "markdown",
   "metadata": {},
   "source": [
    "## Data from 2020\n",
    "\n",
    "The data is available in this external server: https://gis.nst.dk/server/rest/services/ekstern\n",
    "\n",
    "and a list of the different maps available is here:"
   ]
  },
  {
   "cell_type": "code",
   "execution_count": 6,
   "metadata": {},
   "outputs": [
    {
     "data": {
      "text/html": [
       "<div>\n",
       "<style scoped>\n",
       "    .dataframe tbody tr th:only-of-type {\n",
       "        vertical-align: middle;\n",
       "    }\n",
       "\n",
       "    .dataframe tbody tr th {\n",
       "        vertical-align: top;\n",
       "    }\n",
       "\n",
       "    .dataframe thead th {\n",
       "        text-align: right;\n",
       "    }\n",
       "</style>\n",
       "<table border=\"1\" class=\"dataframe\">\n",
       "  <thead>\n",
       "    <tr style=\"text-align: right;\">\n",
       "      <th></th>\n",
       "      <th>zone</th>\n",
       "      <th>url</th>\n",
       "    </tr>\n",
       "  </thead>\n",
       "  <tbody>\n",
       "    <tr>\n",
       "      <th>0</th>\n",
       "      <td>Aabenraa</td>\n",
       "      <td>https://gis.nst.dk/server/services/ekstern/Aab...</td>\n",
       "    </tr>\n",
       "    <tr>\n",
       "      <th>1</th>\n",
       "      <td>Esbjerg</td>\n",
       "      <td>https://gis.nst.dk/server/services/ekstern/Esb...</td>\n",
       "    </tr>\n",
       "    <tr>\n",
       "      <th>2</th>\n",
       "      <td>Fredericia</td>\n",
       "      <td>https://gis.nst.dk/server/services/ekstern/Fre...</td>\n",
       "    </tr>\n",
       "    <tr>\n",
       "      <th>3</th>\n",
       "      <td>Holstebro</td>\n",
       "      <td>https://gis.nst.dk/server/services/ekstern/Hol...</td>\n",
       "    </tr>\n",
       "    <tr>\n",
       "      <th>4</th>\n",
       "      <td>Juelsminde</td>\n",
       "      <td>https://gis.nst.dk/server/services/ekstern/Jue...</td>\n",
       "    </tr>\n",
       "    <tr>\n",
       "      <th>5</th>\n",
       "      <td>Kobenhavn_NS</td>\n",
       "      <td>https://gis.nst.dk/server/services/ekstern/Kob...</td>\n",
       "    </tr>\n",
       "    <tr>\n",
       "      <th>6</th>\n",
       "      <td>Kolding</td>\n",
       "      <td>https://gis.nst.dk/server/services/ekstern/Kol...</td>\n",
       "    </tr>\n",
       "    <tr>\n",
       "      <th>7</th>\n",
       "      <td>Korsoer</td>\n",
       "      <td>https://gis.nst.dk/server/services/ekstern/Kor...</td>\n",
       "    </tr>\n",
       "    <tr>\n",
       "      <th>8</th>\n",
       "      <td>Koege</td>\n",
       "      <td>https://gis.nst.dk/server/services/ekstern/Koe...</td>\n",
       "    </tr>\n",
       "    <tr>\n",
       "      <th>9</th>\n",
       "      <td>Nyborg</td>\n",
       "      <td>https://gis.nst.dk/server/services/ekstern/Nyb...</td>\n",
       "    </tr>\n",
       "    <tr>\n",
       "      <th>10</th>\n",
       "      <td>Odense</td>\n",
       "      <td>https://gis.nst.dk/server/services/ekstern/Ode...</td>\n",
       "    </tr>\n",
       "    <tr>\n",
       "      <th>11</th>\n",
       "      <td>RandersFjord</td>\n",
       "      <td>https://gis.nst.dk/server/services/ekstern/Ran...</td>\n",
       "    </tr>\n",
       "    <tr>\n",
       "      <th>12</th>\n",
       "      <td>Skaerbaek</td>\n",
       "      <td>https://gis.nst.dk/server/services/ekstern/Ska...</td>\n",
       "    </tr>\n",
       "    <tr>\n",
       "      <th>13</th>\n",
       "      <td>Sydlolland</td>\n",
       "      <td>https://gis.nst.dk/server/services/ekstern/Syd...</td>\n",
       "    </tr>\n",
       "    <tr>\n",
       "      <th>14</th>\n",
       "      <td>Vejle</td>\n",
       "      <td>https://gis.nst.dk/server/services/ekstern/Vej...</td>\n",
       "    </tr>\n",
       "    <tr>\n",
       "      <th>15</th>\n",
       "      <td>Vordinborg</td>\n",
       "      <td>https://gis.nst.dk/server/services/ekstern/Vor...</td>\n",
       "    </tr>\n",
       "  </tbody>\n",
       "</table>\n",
       "</div>"
      ],
      "text/plain": [
       "            zone                                                url\n",
       "0       Aabenraa  https://gis.nst.dk/server/services/ekstern/Aab...\n",
       "1        Esbjerg  https://gis.nst.dk/server/services/ekstern/Esb...\n",
       "2     Fredericia  https://gis.nst.dk/server/services/ekstern/Fre...\n",
       "3      Holstebro  https://gis.nst.dk/server/services/ekstern/Hol...\n",
       "4     Juelsminde  https://gis.nst.dk/server/services/ekstern/Jue...\n",
       "5   Kobenhavn_NS  https://gis.nst.dk/server/services/ekstern/Kob...\n",
       "6        Kolding  https://gis.nst.dk/server/services/ekstern/Kol...\n",
       "7        Korsoer  https://gis.nst.dk/server/services/ekstern/Kor...\n",
       "8          Koege  https://gis.nst.dk/server/services/ekstern/Koe...\n",
       "9         Nyborg  https://gis.nst.dk/server/services/ekstern/Nyb...\n",
       "10        Odense  https://gis.nst.dk/server/services/ekstern/Ode...\n",
       "11  RandersFjord  https://gis.nst.dk/server/services/ekstern/Ran...\n",
       "12     Skaerbaek  https://gis.nst.dk/server/services/ekstern/Ska...\n",
       "13    Sydlolland  https://gis.nst.dk/server/services/ekstern/Syd...\n",
       "14         Vejle  https://gis.nst.dk/server/services/ekstern/Vej...\n",
       "15    Vordinborg  https://gis.nst.dk/server/services/ekstern/Vor..."
      ]
     },
     "execution_count": 6,
     "metadata": {},
     "output_type": "execute_result"
    }
   ],
   "source": [
    "df_flood_maps = pd.read_csv('DK_maps_server.csv')\n",
    "df_flood_maps.head(20)"
   ]
  },
  {
   "cell_type": "markdown",
   "metadata": {},
   "source": [
    "Each map has several layers. We can check one of them, to find the flooding maps we are interested in:\n",
    "\n",
    "**breaks down at the office**"
   ]
  },
  {
   "cell_type": "code",
   "execution_count": 7,
   "metadata": {},
   "outputs": [
    {
     "name": "stdout",
     "output_type": "stream",
     "text": [
      "1                         Risikoområde_KHS ['EPSG:4326', 'EPSG:25832']\n",
      "4 Kulturarv_Seværdige_Fortidsminder_punkter_KHS ['EPSG:4326', 'EPSG:25832']\n",
      "5 Kulturarv_Seværdige_Fortidsminder_areal_KHS ['EPSG:4326', 'EPSG:25832']\n",
      "6                     Kulturarv_Kirker_KHS ['EPSG:4326', 'EPSG:25832']\n",
      "7          Kulturarv_Fredede_Bygninger_KHS ['EPSG:4326', 'EPSG:25832']\n",
      "8      Kulturarv_Fortidsminder_punkter_KHS ['EPSG:4326', 'EPSG:25832']\n",
      "9        Kulturarv_Fortidsminder_areal_KHS ['EPSG:4326', 'EPSG:25832']\n",
      "10                   Bes_sten_jorddiger_KHS ['EPSG:4326', 'EPSG:25832']\n",
      "11                   Begravelsesomraade_KHS ['EPSG:4326', 'EPSG:25832']\n",
      "13                     Vandvaerksboring_KHS ['EPSG:4326', 'EPSG:25832']\n",
      "14 Miljoeinteresser_Vandforsyningsboring_KHS ['EPSG:4326', 'EPSG:25832']\n",
      "15          Miljoeinteresser_Natura2000_KHS ['EPSG:4326', 'EPSG:25832']\n",
      "16     Miljoeinteresser_Beskyttet_natur_KHS ['EPSG:4326', 'EPSG:25832']\n",
      "17 Miljoeinteresser_Aktiv_vandindvinding_KHS ['EPSG:4326', 'EPSG:25832']\n",
      "20                            København Syd ['EPSG:4326', 'EPSG:25832']\n",
      "22                     Beredskab_Politi_KHS ['EPSG:4326', 'EPSG:25832']\n",
      "23                 Beredskab_Hospitaler_KHS ['EPSG:4326', 'EPSG:25832']\n",
      "24           Beredskab_Beredskabscentre_KHS ['EPSG:4326', 'EPSG:25832']\n",
      "26        Berørte_indbyggere_KHS_MTEXT_2115 ['EPSG:4326', 'EPSG:25832']\n",
      "27        Berørte_indbyggere_KHS_MT100_2115 ['EPSG:4326', 'EPSG:25832']\n",
      "28        Berørte_indbyggere_KHS_MT100_2065 ['EPSG:4326', 'EPSG:25832']\n",
      "29        Berørte_indbyggere_KHS_MTEXT_2019 ['EPSG:4326', 'EPSG:25832']\n",
      "30        Berørte_indbyggere_KHS_MT100_2019 ['EPSG:4326', 'EPSG:25832']\n",
      "31         Berørte_indbyggere_KHS_MT20_2019 ['EPSG:4326', 'EPSG:25832']\n",
      "33 Kritisk_Infrastruktur_Vandforsyninger_KHS ['EPSG:4326', 'EPSG:25832']\n",
      "34  Kritisk_Infrastruktur_Tranformation_KHS ['EPSG:4326', 'EPSG:25832']\n",
      "35 Kritisk_Infrastruktur_Rensningsanlæg_KHS ['EPSG:4326', 'EPSG:25832']\n",
      "36 Kritisk_Infrastruktur_Kraftvarmeværker_KHS ['EPSG:4326', 'EPSG:25832']\n",
      "37     Ejendomme_forsyninger_KHS_MTEXT_2115 ['EPSG:4326', 'EPSG:25832']\n",
      "38     Ejendomme_forsyninger_KHS_MT100_2115 ['EPSG:4326', 'EPSG:25832']\n",
      "39     Ejendomme_forsyninger_KHS_MT100_2065 ['EPSG:4326', 'EPSG:25832']\n",
      "40     Ejendomme_forsyninger_KHS_MTEXT_2019 ['EPSG:4326', 'EPSG:25832']\n",
      "41     Ejendomme_forsyninger_KHS_MT100_2019 ['EPSG:4326', 'EPSG:25832']\n",
      "42      Ejendomme_forsyninger_KHS_MT20_2019 ['EPSG:4326', 'EPSG:25832']\n",
      "45                    Husdyr_KHS_MTEXT_2115 ['EPSG:4326', 'EPSG:25832']\n",
      "46                    Husdyr_KHS_MT100_2115 ['EPSG:4326', 'EPSG:25832']\n",
      "47                    Husdyr_KHS_MT100_2065 ['EPSG:4326', 'EPSG:25832']\n",
      "48                    Husdyr_KHS_MTEXT_2019 ['EPSG:4326', 'EPSG:25832']\n",
      "49                    Husdyr_KHS_MT100_2019 ['EPSG:4326', 'EPSG:25832']\n",
      "50                     Husdyr_KHS_MT20_2019 ['EPSG:4326', 'EPSG:25832']\n",
      "52                  Afgrøder_KHS_MTEXT_2115 ['EPSG:4326', 'EPSG:25832']\n",
      "53                  Afgrøder_KHS_MT100_2115 ['EPSG:4326', 'EPSG:25832']\n",
      "54                  Afgrøder_KHS_MT100_2065 ['EPSG:4326', 'EPSG:25832']\n",
      "55                  Afgrøder_KHS_MTEXT_2019 ['EPSG:4326', 'EPSG:25832']\n",
      "56                  Afgrøder_KHS_MT100_2019 ['EPSG:4326', 'EPSG:25832']\n",
      "57                   Afgrøder_KHS_MT20_2019 ['EPSG:4326', 'EPSG:25832']\n",
      "59             Infrastruktur_KHS_MTEXT_2115 ['EPSG:4326', 'EPSG:25832']\n",
      "60             Infrastruktur_KHS_MT100_2115 ['EPSG:4326', 'EPSG:25832']\n",
      "61             Infrastruktur_KHS_MT100_2065 ['EPSG:4326', 'EPSG:25832']\n",
      "62             Infrastruktur_KHS_MTEXT_2019 ['EPSG:4326', 'EPSG:25832']\n",
      "63             Infrastruktur_KHS_MT100_2019 ['EPSG:4326', 'EPSG:25832']\n",
      "64              Infrastruktur_KHS_MT20_2019 ['EPSG:4326', 'EPSG:25832']\n",
      "66            Virksomhedstab_KHS_MTEXT_2115 ['EPSG:4326', 'EPSG:25832']\n",
      "67            Virksomhedstab_KHS_MT100_2115 ['EPSG:4326', 'EPSG:25832']\n",
      "68            Virksomhedstab_KHS_MT100_2065 ['EPSG:4326', 'EPSG:25832']\n",
      "69            Virksomhedstab_KHS_MTEXT_2019 ['EPSG:4326', 'EPSG:25832']\n",
      "70            Virksomhedstab_KHS_MT100_2019 ['EPSG:4326', 'EPSG:25832']\n",
      "71             Virksomhedstab_KHS_MT20_2019 ['EPSG:4326', 'EPSG:25832']\n",
      "73                IndboSkade_KHS_MTEXT_2115 ['EPSG:4326', 'EPSG:25832']\n",
      "74                IndboSkade_KHS_MT100_2115 ['EPSG:4326', 'EPSG:25832']\n",
      "75                IndboSkade_KHS_MT100_2065 ['EPSG:4326', 'EPSG:25832']\n",
      "76                IndboSkade_KHS_MTEXT_2019 ['EPSG:4326', 'EPSG:25832']\n",
      "77                IndboSkade_KHS_MT100_2019 ['EPSG:4326', 'EPSG:25832']\n",
      "78                 IndboSkade_KHS_MT20_2019 ['EPSG:4326', 'EPSG:25832']\n",
      "80             Bygningsskade_KHS_MTEXT_2115 ['EPSG:4326', 'EPSG:25832']\n",
      "81             Bygningsskade_KHS_MT100_2115 ['EPSG:4326', 'EPSG:25832']\n",
      "82             Bygningsskade_KHS_MT100_2065 ['EPSG:4326', 'EPSG:25832']\n",
      "83             Bygningsskade_KHS_MTEXT_2019 ['EPSG:4326', 'EPSG:25832']\n",
      "84             Bygningsskade_KHS_MT100_2019 ['EPSG:4326', 'EPSG:25832']\n",
      "85              Bygningsskade_KHS_MT20_2019 ['EPSG:4326', 'EPSG:25832']\n",
      "88                     Dybde_KHS_MTEXT_2115 ['EPSG:4326', 'EPSG:25832']\n",
      "89                     Dybde_KHS_MT100_2115 ['EPSG:4326', 'EPSG:25832']\n",
      "90                     Dybde_KHS_MT100_2065 ['EPSG:4326', 'EPSG:25832']\n",
      "91                     Dybde_KHS_MTEXT_2019 ['EPSG:4326', 'EPSG:25832']\n",
      "92                     Dybde_KHS_MT100_2019 ['EPSG:4326', 'EPSG:25832']\n",
      "93                      Dybde_KHS_MT20_2019 ['EPSG:4326', 'EPSG:25832']\n",
      "95                Udbredelse_KHS_MTEXT_2115 ['EPSG:4326', 'EPSG:25832']\n",
      "96                Udbredelse_KHS_MT100_2115 ['EPSG:4326', 'EPSG:25832']\n",
      "97                Udbredelse_KHS_MT100_2065 ['EPSG:4326', 'EPSG:25832']\n",
      "98                Udbredelse_KHS_MTEXT_2019 ['EPSG:4326', 'EPSG:25832']\n",
      "99                Udbredelse_KHS_MT100_2019 ['EPSG:4326', 'EPSG:25832']\n",
      "100                 Udbredelse_KHS_MT20_2019 ['EPSG:4326', 'EPSG:25832']\n",
      "102     Total_økonomisk_skade_KHS_MTEXT_2115 ['EPSG:4326', 'EPSG:25832']\n",
      "103     Total_økonomisk_skade_KHS_MT100_2115 ['EPSG:4326', 'EPSG:25832']\n",
      "104     Total_økonomisk_skade_KHS_MT100_2065 ['EPSG:4326', 'EPSG:25832']\n",
      "105     Total_økonomisk_skade_KHS_MTEXT_2019 ['EPSG:4326', 'EPSG:25832']\n",
      "106     Total_økonomisk_skade_KHS_MT100_2019 ['EPSG:4326', 'EPSG:25832']\n",
      "107      Total_økonomisk_skade_KHS_MT20_2019 ['EPSG:4326', 'EPSG:25832']\n",
      "109                    Risiko_KHS_MTEXT_2115 ['EPSG:4326', 'EPSG:25832']\n",
      "110                    Risiko_KHS_MT100_2115 ['EPSG:4326', 'EPSG:25832']\n",
      "111                    Risiko_KHS_MT100_2065 ['EPSG:4326', 'EPSG:25832']\n",
      "112                    Risiko_KHS_MTEXT_2019 ['EPSG:4326', 'EPSG:25832']\n",
      "113                    Risiko_KHS_MT100_2019 ['EPSG:4326', 'EPSG:25832']\n",
      "114                     Risiko_KHS_MT20_2019 ['EPSG:4326', 'EPSG:25832']\n",
      "116                         Risikoområde_KHN ['EPSG:4326', 'EPSG:25832']\n",
      "119 Kulturarv_Seværdige_Fortidsminder_areal_KHN ['EPSG:4326', 'EPSG:25832']\n",
      "120                     Kulturarv_Kirker_KHN ['EPSG:4326', 'EPSG:25832']\n",
      "121          Kulturarv_Fredede_Bygninger_KHN ['EPSG:4326', 'EPSG:25832']\n",
      "122      Kulturarv_Fortidsminder_punkter_KHN ['EPSG:4326', 'EPSG:25832']\n",
      "123        Kulturarv_Fortidsminder_areal_KHN ['EPSG:4326', 'EPSG:25832']\n",
      "124                   Bes_sten_jorddiger_KHN ['EPSG:4326', 'EPSG:25832']\n",
      "125                   Begravelsesomraade_KHN ['EPSG:4326', 'EPSG:25832']\n",
      "127                     Vandvaerksboring_KHN ['EPSG:4326', 'EPSG:25832']\n",
      "128 Miljoeinteresser_Vandforsyningsboring_KHN ['EPSG:4326', 'EPSG:25832']\n",
      "129          Miljoeinteresser_Natura2000_KHN ['EPSG:4326', 'EPSG:25832']\n",
      "130     Miljoeinteresser_Beskyttet_natur_KHN ['EPSG:4326', 'EPSG:25832']\n",
      "131 Miljoeinteresser_Aktiv_vandindvinding_KHN ['EPSG:4326', 'EPSG:25832']\n",
      "134                           København Nord ['EPSG:4326', 'EPSG:25832']\n",
      "136                     Beredskab_Politi_KHN ['EPSG:4326', 'EPSG:25832']\n",
      "137                 Beredskab_Hospitaler_KHN ['EPSG:4326', 'EPSG:25832']\n",
      "138           Beredskab_Beredskabscentre_KHN ['EPSG:4326', 'EPSG:25832']\n",
      "140        Berørte_indbyggere_KHN_MTEXT_2115 ['EPSG:4326', 'EPSG:25832']\n",
      "141        Berørte_indbyggere_KHN_MT100_2115 ['EPSG:4326', 'EPSG:25832']\n",
      "142        Berørte_indbyggere_KHN_MT100_2065 ['EPSG:4326', 'EPSG:25832']\n",
      "143        Berørte_indbyggere_KHN_MTEXT_2019 ['EPSG:4326', 'EPSG:25832']\n",
      "144        Berørte_indbyggere_KHN_MT100_2019 ['EPSG:4326', 'EPSG:25832']\n",
      "145         Berørte_indbyggere_KHN_MT20_2019 ['EPSG:4326', 'EPSG:25832']\n",
      "147 Kritisk_Infrastruktur_Vandforsyninger_KHN ['EPSG:4326', 'EPSG:25832']\n",
      "148  Kritisk_Infrastruktur_Tranformation_KHN ['EPSG:4326', 'EPSG:25832']\n",
      "149 Kritisk_Infrastruktur_Rensningsanlæg_KHN ['EPSG:4326', 'EPSG:25832']\n",
      "150 Kritisk_Infrastruktur_Kraftvarmeværker_KHN ['EPSG:4326', 'EPSG:25832']\n",
      "151     Ejendomme_forsyninger_KHN_MTEXT_2115 ['EPSG:4326', 'EPSG:25832']\n",
      "152     Ejendomme_forsyninger_KHN_MT100_2115 ['EPSG:4326', 'EPSG:25832']\n",
      "153     Ejendomme_forsyninger_KHN_MT100_2065 ['EPSG:4326', 'EPSG:25832']\n",
      "154     Ejendomme_forsyninger_KHN_MTEXT_2019 ['EPSG:4326', 'EPSG:25832']\n",
      "155     Ejendomme_forsyninger_KHN_MT100_2019 ['EPSG:4326', 'EPSG:25832']\n",
      "156      Ejendomme_forsyninger_KHN_MT20_2019 ['EPSG:4326', 'EPSG:25832']\n",
      "159                    Husdyr_KHN_MTEXT_2115 ['EPSG:4326', 'EPSG:25832']\n",
      "160                    Husdyr_KHN_MT100_2115 ['EPSG:4326', 'EPSG:25832']\n",
      "161                    Husdyr_KHN_MT100_2065 ['EPSG:4326', 'EPSG:25832']\n",
      "162                    Husdyr_KHN_MTEXT_2019 ['EPSG:4326', 'EPSG:25832']\n",
      "163                    Husdyr_KHN_MT100_2019 ['EPSG:4326', 'EPSG:25832']\n",
      "164                     Husdyr_KHN_MT20_2019 ['EPSG:4326', 'EPSG:25832']\n",
      "166                  Afgrøder_KHN_MTEXT_2115 ['EPSG:4326', 'EPSG:25832']\n",
      "167                  Afgrøder_KHN_MT100_2115 ['EPSG:4326', 'EPSG:25832']\n",
      "168                  Afgrøder_KHN_MT100_2065 ['EPSG:4326', 'EPSG:25832']\n",
      "169                  Afgrøder_KHN_MTEXT_2019 ['EPSG:4326', 'EPSG:25832']\n",
      "170                  Afgrøder_KHN_MT100_2019 ['EPSG:4326', 'EPSG:25832']\n",
      "171                   Afgrøder_KHN_MT20_2019 ['EPSG:4326', 'EPSG:25832']\n",
      "173             Infrastruktur_KHN_MTEXT_2115 ['EPSG:4326', 'EPSG:25832']\n",
      "174             Infrastruktur_KHN_MT100_2115 ['EPSG:4326', 'EPSG:25832']\n",
      "175             Infrastruktur_KHN_MT100_2065 ['EPSG:4326', 'EPSG:25832']\n",
      "176             Infrastruktur_KHN_MTEXT_2019 ['EPSG:4326', 'EPSG:25832']\n",
      "177             Infrastruktur_KHN_MT100_2019 ['EPSG:4326', 'EPSG:25832']\n",
      "178              Infrastruktur_KHN_MT20_2019 ['EPSG:4326', 'EPSG:25832']\n",
      "180            Virksomhedstab_KHN_MTEXT_2115 ['EPSG:4326', 'EPSG:25832']\n",
      "181            Virksomhedstab_KHN_MT100_2115 ['EPSG:4326', 'EPSG:25832']\n",
      "182            Virksomhedstab_KHN_MT100_2065 ['EPSG:4326', 'EPSG:25832']\n",
      "183            Virksomhedstab_KHN_MTEXT_2019 ['EPSG:4326', 'EPSG:25832']\n",
      "184            Virksomhedstab_KHN_MT100_2019 ['EPSG:4326', 'EPSG:25832']\n",
      "185             Virksomhedstab_KHN_MT20_2019 ['EPSG:4326', 'EPSG:25832']\n",
      "187                IndboSkade_KHN_MTEXT_2115 ['EPSG:4326', 'EPSG:25832']\n",
      "188                IndboSkade_KHN_MT100_2115 ['EPSG:4326', 'EPSG:25832']\n",
      "189                IndboSkade_KHN_MT100_2065 ['EPSG:4326', 'EPSG:25832']\n",
      "190                IndboSkade_KHN_MTEXT_2019 ['EPSG:4326', 'EPSG:25832']\n",
      "191                IndboSkade_KHN_MT100_2019 ['EPSG:4326', 'EPSG:25832']\n",
      "192                 IndboSkade_KHN_MT20_2019 ['EPSG:4326', 'EPSG:25832']\n",
      "194             Bygningsskade_KHN_MTEXT_2115 ['EPSG:4326', 'EPSG:25832']\n",
      "195             Bygningsskade_KHN_MT100_2115 ['EPSG:4326', 'EPSG:25832']\n",
      "196             Bygningsskade_KHN_MT100_2065 ['EPSG:4326', 'EPSG:25832']\n",
      "197             Bygningsskade_KHN_MTEXT_2019 ['EPSG:4326', 'EPSG:25832']\n",
      "198             Bygningsskade_KHN_MT100_2019 ['EPSG:4326', 'EPSG:25832']\n",
      "199              Bygningsskade_KHN_MT20_2019 ['EPSG:4326', 'EPSG:25832']\n",
      "202                     Dybde_KHN_MTEXT_2115 ['EPSG:4326', 'EPSG:25832']\n",
      "203                     Dybde_KHN_MT100_2115 ['EPSG:4326', 'EPSG:25832']\n",
      "204                     Dybde_KHN_MT100_2065 ['EPSG:4326', 'EPSG:25832']\n",
      "205                     Dybde_KHN_MTEXT_2019 ['EPSG:4326', 'EPSG:25832']\n",
      "206                     Dybde_KHN_MT100_2019 ['EPSG:4326', 'EPSG:25832']\n",
      "207                      Dybde_KHN_MT20_2019 ['EPSG:4326', 'EPSG:25832']\n",
      "209                Udbredelse_KHN_MTEXT_2115 ['EPSG:4326', 'EPSG:25832']\n",
      "210                Udbredelse_KHN_MT100_2115 ['EPSG:4326', 'EPSG:25832']\n",
      "211                Udbredelse_KHN_MT100_2065 ['EPSG:4326', 'EPSG:25832']\n",
      "212                Udbredelse_KHN_MTEXT_2019 ['EPSG:4326', 'EPSG:25832']\n",
      "213                Udbredelse_KHN_MT100_2019 ['EPSG:4326', 'EPSG:25832']\n",
      "214                 Udbredelse_KHN_MT20_2019 ['EPSG:4326', 'EPSG:25832']\n",
      "216     Total_økonomisk_skade_KHN_MTEXT_2115 ['EPSG:4326', 'EPSG:25832']\n",
      "217     Total_økonomisk_skade_KHN_MT100_2115 ['EPSG:4326', 'EPSG:25832']\n",
      "218     Total_økonomisk_skade_KHN_MT100_2065 ['EPSG:4326', 'EPSG:25832']\n",
      "219     Total_økonomisk_skade_KHN_MTEXT_2019 ['EPSG:4326', 'EPSG:25832']\n",
      "220     Total_økonomisk_skade_KHN_MT100_2019 ['EPSG:4326', 'EPSG:25832']\n",
      "221      Total_økonomisk_skade_KHN_MT20_2019 ['EPSG:4326', 'EPSG:25832']\n",
      "223                    Risiko_KHN_MTEXT_2115 ['EPSG:4326', 'EPSG:25832']\n",
      "224                    Risiko_KHN_MT100_2115 ['EPSG:4326', 'EPSG:25832']\n",
      "225                    Risiko_KHN_MT100_2065 ['EPSG:4326', 'EPSG:25832']\n",
      "226                    Risiko_KHN_MTEXT_2019 ['EPSG:4326', 'EPSG:25832']\n",
      "227                    Risiko_KHN_MT100_2019 ['EPSG:4326', 'EPSG:25832']\n",
      "228                     Risiko_KHN_MT20_2019 ['EPSG:4326', 'EPSG:25832']\n"
     ]
    }
   ],
   "source": [
    "wms = WebMapService('https://gis.nst.dk/server/services/ekstern/Kobenhavn_NS_Plantrin2/MapServer/WmsServer')\n",
    "\n",
    "for layer_nb in wms.contents:\n",
    "    print('%s %40s %s'%(layer_nb,wms[layer_nb].title,wms[layer_nb].crsOptions))"
   ]
  },
  {
   "cell_type": "markdown",
   "metadata": {},
   "source": [
    "We're going to use the layers called 'Udbredelse' something something. We need to check what is the number of this layer in each of the maps (i.e. the map of each zone)"
   ]
  },
  {
   "cell_type": "code",
   "execution_count": 8,
   "metadata": {},
   "outputs": [
    {
     "name": "stdout",
     "output_type": "stream",
     "text": [
      "MTEXT_2115\n",
      "MTEXT_2019\n",
      "MT100_2115\n",
      "MT100_2065\n",
      "MT100_2019\n",
      "MT20_2019\n",
      "MT50_2115\n",
      "MT50_2065\n",
      "MT50_2019\n"
     ]
    }
   ],
   "source": [
    "scenarios = ['MTEXT_2115',\n",
    "             'MTEXT_2019',\n",
    "             'MT100_2115',\n",
    "             'MT100_2065',\n",
    "             'MT100_2019',\n",
    "             'MT20_2019',\n",
    "             'MT50_2115',\n",
    "             'MT50_2065',\n",
    "             'MT50_2019',\n",
    "            ]\n",
    "\n",
    "for scenario in scenarios:\n",
    "    print(scenario)\n",
    "    df_flood_maps['Udbredelse_'+scenario] = df_flood_maps.url.apply(lambda x: check_layer_number(x,'Udbredelse_\\w+_'+scenario))"
   ]
  },
  {
   "cell_type": "code",
   "execution_count": 9,
   "metadata": {
    "collapsed": true,
    "jupyter": {
     "outputs_hidden": true
    }
   },
   "outputs": [
    {
     "name": "stderr",
     "output_type": "stream",
     "text": [
      "  0%|          | 0/9 [00:00<?, ?it/s]"
     ]
    },
    {
     "name": "stdout",
     "output_type": "stream",
     "text": [
      "Saved FloodingMaps/Udbredelse_MTEXT_2115/Udbredelse_AAB_MTEXT_2115.png\n",
      "Saved FloodingMaps/Udbredelse_MTEXT_2115/Udbredelse_ESB_MTEXT_2115.png\n",
      "Saved FloodingMaps/Udbredelse_MTEXT_2115/Udbredelse_FRE_MTEXT_2115.png\n",
      "Scenario for  [] does not exist\n",
      "Saved FloodingMaps/Udbredelse_MTEXT_2115/Udbredelse_JUE_MTEXT_2115.png\n",
      "Saved FloodingMaps/Udbredelse_MTEXT_2115/Udbredelse_KHS_MTEXT_2115.png\n",
      "Saved FloodingMaps/Udbredelse_MTEXT_2115/Udbredelse_KHN_MTEXT_2115.png\n",
      "Saved FloodingMaps/Udbredelse_MTEXT_2115/Udbredelse_KOL_MTEXT_2115.png\n",
      "Saved FloodingMaps/Udbredelse_MTEXT_2115/Udbredelse_KOR_MTEXT_2115.png\n",
      "Saved FloodingMaps/Udbredelse_MTEXT_2115/Udbredelse_KBU_MTEXT_2115.png\n",
      "Saved FloodingMaps/Udbredelse_MTEXT_2115/Udbredelse_NYB_MTEXT_2115.png\n",
      "Saved FloodingMaps/Udbredelse_MTEXT_2115/Udbredelse_ODE_MTEXT_2115.png\n",
      "Saved FloodingMaps/Udbredelse_MTEXT_2115/Udbredelse_RAF_MTEXT_2115.png\n",
      "Saved FloodingMaps/Udbredelse_MTEXT_2115/Udbredelse_SKB_MTEXT_2115.png\n",
      "Saved FloodingMaps/Udbredelse_MTEXT_2115/Udbredelse_SYD_MTEXT_2115.png\n",
      "Saved FloodingMaps/Udbredelse_MTEXT_2115/Udbredelse_NAK_MTEXT_2115.png\n",
      "Saved FloodingMaps/Udbredelse_MTEXT_2115/Udbredelse_VEJ_MTEXT_2115.png\n",
      "Saved FloodingMaps/Udbredelse_MTEXT_2115/Udbredelse_VOR_MTEXT_2115.png\n"
     ]
    },
    {
     "name": "stderr",
     "output_type": "stream",
     "text": [
      " 11%|█         | 1/9 [00:58<07:49, 58.70s/it]"
     ]
    },
    {
     "name": "stdout",
     "output_type": "stream",
     "text": [
      "Saved FloodingMaps/Udbredelse_MTEXT_2019/Udbredelse_AAB_MTEXT_2019.png\n",
      "Saved FloodingMaps/Udbredelse_MTEXT_2019/Udbredelse_ESB_MTEXT_2019.png\n",
      "Saved FloodingMaps/Udbredelse_MTEXT_2019/Udbredelse_FRE_MTEXT_2019.png\n",
      "Scenario for  [] does not exist\n",
      "Saved FloodingMaps/Udbredelse_MTEXT_2019/Udbredelse_JUE_MTEXT_2019.png\n",
      "Saved FloodingMaps/Udbredelse_MTEXT_2019/Udbredelse_KHS_MTEXT_2019.png\n",
      "Saved FloodingMaps/Udbredelse_MTEXT_2019/Udbredelse_KHN_MTEXT_2019.png\n",
      "Saved FloodingMaps/Udbredelse_MTEXT_2019/Udbredelse_KOL_MTEXT_2019.png\n",
      "Saved FloodingMaps/Udbredelse_MTEXT_2019/Udbredelse_KOR_MTEXT_2019.png\n",
      "Saved FloodingMaps/Udbredelse_MTEXT_2019/Udbredelse_KBU_MTEXT_2019.png\n",
      "Saved FloodingMaps/Udbredelse_MTEXT_2019/Udbredelse_NYB_MTEXT_2019.png\n",
      "Saved FloodingMaps/Udbredelse_MTEXT_2019/Udbredelse_ODE_MTEXT_2019.png\n",
      "Saved FloodingMaps/Udbredelse_MTEXT_2019/Udbredelse_RAF_MTEXT_2019.png\n",
      "Saved FloodingMaps/Udbredelse_MTEXT_2019/Udbredelse_SKB_MTEXT_2019.png\n",
      "Saved FloodingMaps/Udbredelse_MTEXT_2019/Udbredelse_SYD_MTEXT_2019.png\n",
      "Saved FloodingMaps/Udbredelse_MTEXT_2019/Udbredelse_NAK_MTEXT_2019.png\n",
      "Saved FloodingMaps/Udbredelse_MTEXT_2019/Udbredelse_VEJ_MTEXT_2019.png\n",
      "Saved FloodingMaps/Udbredelse_MTEXT_2019/Udbredelse_VOR_MTEXT_2019.png\n"
     ]
    },
    {
     "name": "stderr",
     "output_type": "stream",
     "text": [
      " 22%|██▏       | 2/9 [01:57<06:51, 58.78s/it]"
     ]
    },
    {
     "name": "stdout",
     "output_type": "stream",
     "text": [
      "Saved FloodingMaps/Udbredelse_MT100_2115/Udbredelse_AAB_MT100_2115.png\n",
      "Saved FloodingMaps/Udbredelse_MT100_2115/Udbredelse_ESB_MT100_2115.png\n",
      "Saved FloodingMaps/Udbredelse_MT100_2115/Udbredelse_FRE_MT100_2115.png\n",
      "Saved FloodingMaps/Udbredelse_MT100_2115/Udbredelse_HOL_MT100_2115.png\n",
      "Saved FloodingMaps/Udbredelse_MT100_2115/Udbredelse_JUE_MT100_2115.png\n",
      "Saved FloodingMaps/Udbredelse_MT100_2115/Udbredelse_KHS_MT100_2115.png\n",
      "Saved FloodingMaps/Udbredelse_MT100_2115/Udbredelse_KHN_MT100_2115.png\n",
      "Saved FloodingMaps/Udbredelse_MT100_2115/Udbredelse_KOL_MT100_2115.png\n",
      "Saved FloodingMaps/Udbredelse_MT100_2115/Udbredelse_KOR_MT100_2115.png\n",
      "Saved FloodingMaps/Udbredelse_MT100_2115/Udbredelse_KBU_MT100_2115.png\n",
      "Saved FloodingMaps/Udbredelse_MT100_2115/Udbredelse_NYB_MT100_2115.png\n",
      "Saved FloodingMaps/Udbredelse_MT100_2115/Udbredelse_ODE_MT100_2115.png\n",
      "Saved FloodingMaps/Udbredelse_MT100_2115/Udbredelse_RAF_MT100_2115.png\n",
      "Saved FloodingMaps/Udbredelse_MT100_2115/Udbredelse_SKB_MT100_2115.png\n",
      "Saved FloodingMaps/Udbredelse_MT100_2115/Udbredelse_SLO_MT100_2115.png\n",
      "Saved FloodingMaps/Udbredelse_MT100_2115/Udbredelse_VEJ_MT100_2115.png\n",
      "Saved FloodingMaps/Udbredelse_MT100_2115/Udbredelse_VOR_MT100_2115.png\n"
     ]
    },
    {
     "name": "stderr",
     "output_type": "stream",
     "text": [
      " 33%|███▎      | 3/9 [02:51<05:43, 57.29s/it]"
     ]
    },
    {
     "name": "stdout",
     "output_type": "stream",
     "text": [
      "Saved FloodingMaps/Udbredelse_MT100_2065/Udbredelse_AAB_MT100_2065.png\n",
      "Saved FloodingMaps/Udbredelse_MT100_2065/Udbredelse_ESB_MT100_2065.png\n",
      "Saved FloodingMaps/Udbredelse_MT100_2065/Udbredelse_FRE_MT100_2065.png\n",
      "Scenario for  [] does not exist\n",
      "Saved FloodingMaps/Udbredelse_MT100_2065/Udbredelse_JUE_MT100_2065.png\n",
      "Saved FloodingMaps/Udbredelse_MT100_2065/Udbredelse_KHS_MT100_2065.png\n",
      "Saved FloodingMaps/Udbredelse_MT100_2065/Udbredelse_KHN_MT100_2065.png\n",
      "Saved FloodingMaps/Udbredelse_MT100_2065/Udbredelse_KOL_MT100_2065.png\n",
      "Saved FloodingMaps/Udbredelse_MT100_2065/Udbredelse_KOR_MT100_2065.png\n",
      "Saved FloodingMaps/Udbredelse_MT100_2065/Udbredelse_KBU_MT100_2065.png\n",
      "Saved FloodingMaps/Udbredelse_MT100_2065/Udbredelse_NYB_MT100_2065.png\n",
      "Saved FloodingMaps/Udbredelse_MT100_2065/Udbredelse_ODE_MT100_2065.png\n",
      "Saved FloodingMaps/Udbredelse_MT100_2065/Udbredelse_RAF_MT100_2065.png\n",
      "Saved FloodingMaps/Udbredelse_MT100_2065/Udbredelse_SKB_MT100_2065.png\n",
      "Saved FloodingMaps/Udbredelse_MT100_2065/Udbredelse_SLO_MT100_2065.png\n",
      "Saved FloodingMaps/Udbredelse_MT100_2065/Udbredelse_VEJ_MT100_2065.png\n",
      "Saved FloodingMaps/Udbredelse_MT100_2065/Udbredelse_VOR_MT100_2065.png\n"
     ]
    },
    {
     "name": "stderr",
     "output_type": "stream",
     "text": [
      " 44%|████▍     | 4/9 [03:40<04:34, 54.93s/it]"
     ]
    },
    {
     "name": "stdout",
     "output_type": "stream",
     "text": [
      "Saved FloodingMaps/Udbredelse_MT100_2019/Udbredelse_AAB_MT100_2019.png\n",
      "Saved FloodingMaps/Udbredelse_MT100_2019/Udbredelse_ESB_MT100_2019.png\n",
      "Saved FloodingMaps/Udbredelse_MT100_2019/Udbredelse_FRE_MT100_2019.png\n",
      "Saved FloodingMaps/Udbredelse_MT100_2019/Udbredelse_HOL_MT100_2019.png\n",
      "Saved FloodingMaps/Udbredelse_MT100_2019/Udbredelse_JUE_MT100_2019.png\n",
      "Saved FloodingMaps/Udbredelse_MT100_2019/Udbredelse_KHS_MT100_2019.png\n",
      "Saved FloodingMaps/Udbredelse_MT100_2019/Udbredelse_KHN_MT100_2019.png\n",
      "Saved FloodingMaps/Udbredelse_MT100_2019/Udbredelse_KOL_MT100_2019.png\n",
      "Saved FloodingMaps/Udbredelse_MT100_2019/Udbredelse_KOR_MT100_2019.png\n",
      "Saved FloodingMaps/Udbredelse_MT100_2019/Udbredelse_KBU_MT100_2019.png\n",
      "Saved FloodingMaps/Udbredelse_MT100_2019/Udbredelse_NYB_MT100_2019.png\n",
      "Saved FloodingMaps/Udbredelse_MT100_2019/Udbredelse_ODE_MT100_2019.png\n",
      "Saved FloodingMaps/Udbredelse_MT100_2019/Udbredelse_RAF_MT100_2019.png\n",
      "Saved FloodingMaps/Udbredelse_MT100_2019/Udbredelse_SKB_MT100_2019.png\n",
      "Saved FloodingMaps/Udbredelse_MT100_2019/Udbredelse_SLO_MT100_2019.png\n",
      "Saved FloodingMaps/Udbredelse_MT100_2019/Udbredelse_VEJ_MT100_2019.png\n",
      "Saved FloodingMaps/Udbredelse_MT100_2019/Udbredelse_VOR_MT100_2019.png\n"
     ]
    },
    {
     "name": "stderr",
     "output_type": "stream",
     "text": [
      " 56%|█████▌    | 5/9 [04:32<03:35, 53.85s/it]"
     ]
    },
    {
     "name": "stdout",
     "output_type": "stream",
     "text": [
      "Saved FloodingMaps/Udbredelse_MT20_2019/Udbredelse_AAB_MT20_2019.png\n",
      "Saved FloodingMaps/Udbredelse_MT20_2019/Udbredelse_ESB_MT20_2019.png\n",
      "Saved FloodingMaps/Udbredelse_MT20_2019/Udbredelse_FRE_MT20_2019.png\n",
      "Saved FloodingMaps/Udbredelse_MT20_2019/Udbredelse_HOL_MT20_2019.png\n",
      "Saved FloodingMaps/Udbredelse_MT20_2019/Udbredelse_JUE_MT20_2019.png\n",
      "Saved FloodingMaps/Udbredelse_MT20_2019/Udbredelse_KHS_MT20_2019.png\n",
      "Saved FloodingMaps/Udbredelse_MT20_2019/Udbredelse_KHN_MT20_2019.png\n",
      "Saved FloodingMaps/Udbredelse_MT20_2019/Udbredelse_KOL_MT20_2019.png\n",
      "Saved FloodingMaps/Udbredelse_MT20_2019/Udbredelse_KOR_MT20_2019.png\n",
      "Saved FloodingMaps/Udbredelse_MT20_2019/Udbredelse_KBU_MT20_2019.png\n",
      "Saved FloodingMaps/Udbredelse_MT20_2019/Udbredelse_NYB_MT20_2019.png\n",
      "Saved FloodingMaps/Udbredelse_MT20_2019/Udbredelse_ODE_MT20_2019.png\n",
      "Saved FloodingMaps/Udbredelse_MT20_2019/Udbredelse_RAF_MT20_2019.png\n",
      "Saved FloodingMaps/Udbredelse_MT20_2019/Udbredelse_SKB_MT20_2019.png\n",
      "Saved FloodingMaps/Udbredelse_MT20_2019/Udbredelse_SLO_MT20_2019.png\n",
      "Saved FloodingMaps/Udbredelse_MT20_2019/Udbredelse_VEJ_MT20_2019.png\n",
      "Saved FloodingMaps/Udbredelse_MT20_2019/Udbredelse_VOR_MT20_2019.png\n"
     ]
    },
    {
     "name": "stderr",
     "output_type": "stream",
     "text": [
      " 67%|██████▋   | 6/9 [05:23<02:38, 52.96s/it]"
     ]
    },
    {
     "name": "stdout",
     "output_type": "stream",
     "text": [
      "Scenario for  [] does not exist\n",
      "Scenario for  [] does not exist\n",
      "Scenario for  [] does not exist\n",
      "Saved FloodingMaps/Udbredelse_MT50_2115/Udbredelse_HOL_MT50_2115.png\n"
     ]
    },
    {
     "name": "stderr",
     "output_type": "stream",
     "text": [
      " 78%|███████▊  | 7/9 [05:25<01:15, 37.83s/it]"
     ]
    },
    {
     "name": "stdout",
     "output_type": "stream",
     "text": [
      "Scenario for  [] does not exist\n",
      "Scenario for  [] does not exist\n",
      "Scenario for  [] does not exist\n",
      "Scenario for  [] does not exist\n",
      "Scenario for  [] does not exist\n",
      "Scenario for  [] does not exist\n",
      "Scenario for  [] does not exist\n",
      "Scenario for  [] does not exist\n",
      "Scenario for  [] does not exist\n",
      "Scenario for  [] does not exist\n",
      "Scenario for  [] does not exist\n",
      "Scenario for  [] does not exist\n",
      "Scenario for  [] does not exist\n",
      "Scenario for  [] does not exist\n",
      "Scenario for  [] does not exist\n",
      "Saved FloodingMaps/Udbredelse_MT50_2065/Udbredelse_HOL_MT50_2065.png\n"
     ]
    },
    {
     "name": "stderr",
     "output_type": "stream",
     "text": [
      " 89%|████████▉ | 8/9 [05:28<00:27, 27.30s/it]"
     ]
    },
    {
     "name": "stdout",
     "output_type": "stream",
     "text": [
      "Scenario for  [] does not exist\n",
      "Scenario for  [] does not exist\n",
      "Scenario for  [] does not exist\n",
      "Scenario for  [] does not exist\n",
      "Scenario for  [] does not exist\n",
      "Scenario for  [] does not exist\n",
      "Scenario for  [] does not exist\n",
      "Scenario for  [] does not exist\n",
      "Scenario for  [] does not exist\n",
      "Scenario for  [] does not exist\n",
      "Scenario for  [] does not exist\n",
      "Scenario for  [] does not exist\n",
      "Scenario for  [] does not exist\n",
      "Scenario for  [] does not exist\n",
      "Scenario for  [] does not exist\n",
      "Saved FloodingMaps/Udbredelse_MT50_2019/Udbredelse_HOL_MT50_2019.png\n"
     ]
    },
    {
     "name": "stderr",
     "output_type": "stream",
     "text": [
      "100%|██████████| 9/9 [05:31<00:00, 36.79s/it]"
     ]
    },
    {
     "name": "stdout",
     "output_type": "stream",
     "text": [
      "Scenario for  [] does not exist\n",
      "Scenario for  [] does not exist\n",
      "Scenario for  [] does not exist\n",
      "Scenario for  [] does not exist\n",
      "Scenario for  [] does not exist\n",
      "Scenario for  [] does not exist\n",
      "Scenario for  [] does not exist\n",
      "Scenario for  [] does not exist\n",
      "Scenario for  [] does not exist\n",
      "Scenario for  [] does not exist\n",
      "Scenario for  [] does not exist\n",
      "Scenario for  [] does not exist\n"
     ]
    },
    {
     "name": "stderr",
     "output_type": "stream",
     "text": [
      "\n"
     ]
    }
   ],
   "source": [
    "file_name_list =  []\n",
    "bbox_list = []\n",
    "scenario_list = []\n",
    "geo_zone_list = []\n",
    "\n",
    "for scenario in tqdm(scenarios):\n",
    "    \n",
    "    dir_path = 'FloodingMaps/Udbredelse_'+scenario+'/'\n",
    "    if not os.path.exists(dir_path):\n",
    "        os.makedirs(dir_path)\n",
    "\n",
    "    for idx,row in df_flood_maps.iterrows():\n",
    "        if len(row['Udbredelse_'+scenario]) == 0:\n",
    "            print('Scenario for ',row['Udbredelse_'+scenario],'does not exist')\n",
    "            continue\n",
    "        else:\n",
    "            # there can be more than one layer (eg. cph north and south)\n",
    "            for layer in row['Udbredelse_'+scenario]:\n",
    "                file_name,bbox = download_map(row['url'],\n",
    "                                               layer=layer,\n",
    "                                               size=(4000,4000),\n",
    "                                               crs='EPSG:4326',\n",
    "                                               output_dir=dir_path)\n",
    "\n",
    "                file_name_list.append(file_name)\n",
    "                geo_zone_list.append(file_name.split(dir_path)[1].split(scenario)[0].split('Udbredelse_')[1].strip('_'))\n",
    "                bbox_list.append(bbox)\n",
    "                scenario_list.append(scenario)                "
   ]
  },
  {
   "cell_type": "markdown",
   "metadata": {},
   "source": [
    "Save the name, bbox and scenario in a file"
   ]
  },
  {
   "cell_type": "code",
   "execution_count": 24,
   "metadata": {},
   "outputs": [
    {
     "data": {
      "text/html": [
       "<div>\n",
       "<style scoped>\n",
       "    .dataframe tbody tr th:only-of-type {\n",
       "        vertical-align: middle;\n",
       "    }\n",
       "\n",
       "    .dataframe tbody tr th {\n",
       "        vertical-align: top;\n",
       "    }\n",
       "\n",
       "    .dataframe thead th {\n",
       "        text-align: right;\n",
       "    }\n",
       "</style>\n",
       "<table border=\"1\" class=\"dataframe\">\n",
       "  <thead>\n",
       "    <tr style=\"text-align: right;\">\n",
       "      <th></th>\n",
       "      <th>scenario</th>\n",
       "      <th>file</th>\n",
       "      <th>bbox</th>\n",
       "      <th>geo_zone</th>\n",
       "    </tr>\n",
       "  </thead>\n",
       "  <tbody>\n",
       "    <tr>\n",
       "      <th>4</th>\n",
       "      <td>MTEXT_2115</td>\n",
       "      <td>FloodingMaps/Udbredelse_MTEXT_2115/Udbredelse_...</td>\n",
       "      <td>(12.43739, 55.5522, 12.693495, 55.714904)</td>\n",
       "      <td>KHS</td>\n",
       "    </tr>\n",
       "    <tr>\n",
       "      <th>5</th>\n",
       "      <td>MTEXT_2115</td>\n",
       "      <td>FloodingMaps/Udbredelse_MTEXT_2115/Udbredelse_...</td>\n",
       "      <td>(12.487415, 55.552264, 12.694708, 55.726316)</td>\n",
       "      <td>KHN</td>\n",
       "    </tr>\n",
       "    <tr>\n",
       "      <th>6</th>\n",
       "      <td>MTEXT_2115</td>\n",
       "      <td>FloodingMaps/Udbredelse_MTEXT_2115/Udbredelse_...</td>\n",
       "      <td>(9.377683, 55.47553, 9.553077, 55.510132)</td>\n",
       "      <td>KOL</td>\n",
       "    </tr>\n",
       "    <tr>\n",
       "      <th>7</th>\n",
       "      <td>MTEXT_2115</td>\n",
       "      <td>FloodingMaps/Udbredelse_MTEXT_2115/Udbredelse_...</td>\n",
       "      <td>(11.090517, 55.307539, 11.217802, 55.363792)</td>\n",
       "      <td>KOR</td>\n",
       "    </tr>\n",
       "    <tr>\n",
       "      <th>8</th>\n",
       "      <td>MTEXT_2115</td>\n",
       "      <td>FloodingMaps/Udbredelse_MTEXT_2115/Udbredelse_...</td>\n",
       "      <td>(12.120189, 55.410787, 12.468536, 55.639661)</td>\n",
       "      <td>KBU</td>\n",
       "    </tr>\n",
       "    <tr>\n",
       "      <th>...</th>\n",
       "      <td>...</td>\n",
       "      <td>...</td>\n",
       "      <td>...</td>\n",
       "      <td>...</td>\n",
       "    </tr>\n",
       "    <tr>\n",
       "      <th>99</th>\n",
       "      <td>MT20_2019</td>\n",
       "      <td>FloodingMaps/Udbredelse_MT20_2019/Udbredelse_V...</td>\n",
       "      <td>(9.542685, 55.690325, 9.668523, 55.710755)</td>\n",
       "      <td>VEJ</td>\n",
       "    </tr>\n",
       "    <tr>\n",
       "      <th>100</th>\n",
       "      <td>MT20_2019</td>\n",
       "      <td>FloodingMaps/Udbredelse_MT20_2019/Udbredelse_V...</td>\n",
       "      <td>(11.840523, 54.97512, 11.936832, 55.019609)</td>\n",
       "      <td>VOR</td>\n",
       "    </tr>\n",
       "    <tr>\n",
       "      <th>101</th>\n",
       "      <td>MT50_2115</td>\n",
       "      <td>FloodingMaps/Udbredelse_MT50_2115/Udbredelse_H...</td>\n",
       "      <td>(8.590139, 56.34769, 8.638287, 56.360013)</td>\n",
       "      <td>HOL</td>\n",
       "    </tr>\n",
       "    <tr>\n",
       "      <th>102</th>\n",
       "      <td>MT50_2065</td>\n",
       "      <td>FloodingMaps/Udbredelse_MT50_2065/Udbredelse_H...</td>\n",
       "      <td>(8.590139, 56.34769, 8.638287, 56.360013)</td>\n",
       "      <td>HOL</td>\n",
       "    </tr>\n",
       "    <tr>\n",
       "      <th>103</th>\n",
       "      <td>MT50_2019</td>\n",
       "      <td>FloodingMaps/Udbredelse_MT50_2019/Udbredelse_H...</td>\n",
       "      <td>(8.59072, 56.348062, 8.638312, 56.36004)</td>\n",
       "      <td>HOL</td>\n",
       "    </tr>\n",
       "  </tbody>\n",
       "</table>\n",
       "<p>100 rows × 4 columns</p>\n",
       "</div>"
      ],
      "text/plain": [
       "       scenario                                               file  \\\n",
       "4    MTEXT_2115  FloodingMaps/Udbredelse_MTEXT_2115/Udbredelse_...   \n",
       "5    MTEXT_2115  FloodingMaps/Udbredelse_MTEXT_2115/Udbredelse_...   \n",
       "6    MTEXT_2115  FloodingMaps/Udbredelse_MTEXT_2115/Udbredelse_...   \n",
       "7    MTEXT_2115  FloodingMaps/Udbredelse_MTEXT_2115/Udbredelse_...   \n",
       "8    MTEXT_2115  FloodingMaps/Udbredelse_MTEXT_2115/Udbredelse_...   \n",
       "..          ...                                                ...   \n",
       "99    MT20_2019  FloodingMaps/Udbredelse_MT20_2019/Udbredelse_V...   \n",
       "100   MT20_2019  FloodingMaps/Udbredelse_MT20_2019/Udbredelse_V...   \n",
       "101   MT50_2115  FloodingMaps/Udbredelse_MT50_2115/Udbredelse_H...   \n",
       "102   MT50_2065  FloodingMaps/Udbredelse_MT50_2065/Udbredelse_H...   \n",
       "103   MT50_2019  FloodingMaps/Udbredelse_MT50_2019/Udbredelse_H...   \n",
       "\n",
       "                                             bbox geo_zone  \n",
       "4       (12.43739, 55.5522, 12.693495, 55.714904)      KHS  \n",
       "5    (12.487415, 55.552264, 12.694708, 55.726316)      KHN  \n",
       "6       (9.377683, 55.47553, 9.553077, 55.510132)      KOL  \n",
       "7    (11.090517, 55.307539, 11.217802, 55.363792)      KOR  \n",
       "8    (12.120189, 55.410787, 12.468536, 55.639661)      KBU  \n",
       "..                                            ...      ...  \n",
       "99     (9.542685, 55.690325, 9.668523, 55.710755)      VEJ  \n",
       "100   (11.840523, 54.97512, 11.936832, 55.019609)      VOR  \n",
       "101     (8.590139, 56.34769, 8.638287, 56.360013)      HOL  \n",
       "102     (8.590139, 56.34769, 8.638287, 56.360013)      HOL  \n",
       "103      (8.59072, 56.348062, 8.638312, 56.36004)      HOL  \n",
       "\n",
       "[100 rows x 4 columns]"
      ]
     },
     "execution_count": 24,
     "metadata": {},
     "output_type": "execute_result"
    }
   ],
   "source": [
    "df_png = pd.DataFrame({'scenario':scenario_list,\n",
    "                       'file':file_name_list,\n",
    "                       'bbox':bbox_list,\n",
    "                       'geo_zone':geo_zone_list\n",
    "                      })\n",
    "df_png.to_csv('map_list_DK_2020')\n",
    "df_png.tail(100)"
   ]
  },
  {
   "cell_type": "markdown",
   "metadata": {},
   "source": [
    "### Merging files\n",
    "\n",
    "Some of the maps overlap, and this is a bit problematic further down, because a property is going to be assigned to two zones. The easiest way is to merge these overlapping maps into only one."
   ]
  },
  {
   "cell_type": "code",
   "execution_count": 11,
   "metadata": {},
   "outputs": [],
   "source": [
    "# not including the MT50\n",
    "scenarios = ['MTEXT_2019',\n",
    "             'MTEXT_2115',\n",
    "             'MT100_2115',\n",
    "             'MT100_2065',\n",
    "             'MT100_2019',\n",
    "             'MT20_2019']"
   ]
  },
  {
   "cell_type": "code",
   "execution_count": 25,
   "metadata": {},
   "outputs": [],
   "source": [
    "def update_map_list(map_list,scenario,drop_zone,new_zone,new_file,new_bbox):    \n",
    "    df_map_list = pd.read_csv(map_list,index_col=0)\n",
    "    for z in drop_zone:\n",
    "        idx = df_map_list[(df_map_list.geo_zone == z) &\n",
    "                            (df_map_list.scenario == scenario)\n",
    "                           ].index\n",
    "        df_map_list.drop(idx,inplace=True)\n",
    "    new_row = {'scenario':scenario,\n",
    "               'file':new_file,\n",
    "               'bbox':new_bbox,\n",
    "               'geo_zone':new_zone\n",
    "              }\n",
    "    df_map_list.append(new_row,ignore_index=True)\n",
    "    df_map_list.to_csv(map_list)"
   ]
  },
  {
   "cell_type": "markdown",
   "metadata": {},
   "source": [
    "**Copenhagen region (also including Køge)**"
   ]
  },
  {
   "cell_type": "code",
   "execution_count": 26,
   "metadata": {},
   "outputs": [],
   "source": [
    "for scenario in scenarios:\n",
    "    outfile = 'FloodingMaps/Udbredelse_'+scenario+'/Udbredelse_KHSN_'+scenario\n",
    "    bbox = save_merged_map(\n",
    "                ['FloodingMaps/Udbredelse_'+scenario+'/Udbredelse_KHS_'+scenario+'_georef.png',\n",
    "                 'FloodingMaps/Udbredelse_'+scenario+'/Udbredelse_KHN_'+scenario+'_georef.png',\n",
    "                 'FloodingMaps/Udbredelse_'+scenario+'/Udbredelse_KBU_'+scenario+'_georef.png'\n",
    "                ],\n",
    "                resolution=None, # keeps the original\n",
    "                out_file=outfile)\n",
    "\n",
    "    update_map_list('map_list_DK_2020',\n",
    "                    drop_zone=['KHN','KHS','KBU'],\n",
    "                    scenario=scenario,\n",
    "                    new_zone='KHSN',\n",
    "                    new_file=outfile,\n",
    "                    new_bbox=(bbox.left,bbox.bottom,bbox.right,bbox.top)    \n",
    "                   )"
   ]
  },
  {
   "cell_type": "markdown",
   "metadata": {},
   "source": [
    "**Loland**\n",
    "\n",
    "Loland (SLO) is split in the extreme scenarios. To simplify things, we'll merge them and call it also SLO "
   ]
  },
  {
   "cell_type": "code",
   "execution_count": 27,
   "metadata": {},
   "outputs": [],
   "source": [
    "for scenario in ['MTEXT_2019','MTEXT_2115']:\n",
    "    outfile = 'FloodingMaps/Udbredelse_'+scenario+'/Udbredelse_SLO_'+scenario\n",
    "    bbox = save_merged_map(\n",
    "                ['FloodingMaps/Udbredelse_'+scenario+'/Udbredelse_SYD_'+scenario+'_georef.png',\n",
    "                 'FloodingMaps/Udbredelse_'+scenario+'/Udbredelse_NAK_'+scenario+'_georef.png'],\n",
    "                resolution=None,\n",
    "                out_file=outfile)\n",
    "    \n",
    "    update_map_list('map_list_DK_2020',\n",
    "                    drop_zone=['SYD','NAK'],\n",
    "                    scenario=scenario,\n",
    "                    new_zone='SLO',\n",
    "                    new_file=outfile,\n",
    "                    new_bbox=(bbox.left,bbox.bottom,bbox.right,bbox.top)    \n",
    "                   )"
   ]
  },
  {
   "cell_type": "markdown",
   "metadata": {},
   "source": [
    "**Holstebro region**"
   ]
  },
  {
   "cell_type": "code",
   "execution_count": 28,
   "metadata": {},
   "outputs": [],
   "source": [
    "for year in ['2115','2019']:\n",
    "    outfile='FloodingMaps/Udbredelse_MT50_'+year+'/Udbredelse_HOL_MT150_'+year\n",
    "    transform = save_merged_map(\n",
    "                    ['FloodingMaps/Udbredelse_MT100_'+year+'/Udbredelse_HOL_MT100_'+year+'_georef.png',\n",
    "                     'FloodingMaps/Udbredelse_MT50_'+year+'/Udbredelse_HOL_MT50_'+year+'_georef.png'],\n",
    "                    resolution=None, # keeps the original\n",
    "                    out_file=outfile)\n",
    "    \n",
    "    new_row = {'scenario':'MT150',\n",
    "               'file':outfile,\n",
    "               'bbox':(transform.left,transform.bottom,transform.right,transform.top)   ,\n",
    "               'geo_zone':'HOL'\n",
    "              }\n",
    "    new_list=pd.read_csv('map_list_DK_2020',index_col=0).append(new_row,ignore_index=True)\n",
    "    new_list.to_csv('map_list_DK_2020')"
   ]
  },
  {
   "cell_type": "markdown",
   "metadata": {},
   "source": [
    "## Data for Sweden\n",
    "\n",
    "Maps are available here: https://gisapp.msb.se/Apps/oversvamningsportal/hemta-data.html\n",
    "\n",
    "We'll be using the 200-årsflöde (Klimatanpassat flöde för slutet av seklet) and 100-årsflöde (Klimatanpassat flöde för slutet av seklet)"
   ]
  },
  {
   "cell_type": "code",
   "execution_count": 17,
   "metadata": {},
   "outputs": [
    {
     "data": {
      "text/plain": [
       "OrderedDict([('0', <owslib.map.wms111.ContentMetadata at 0x11268e400>),\n",
       "             ('1', <owslib.map.wms111.ContentMetadata at 0x11200c940>),\n",
       "             ('2', <owslib.map.wms111.ContentMetadata at 0x111938160>),\n",
       "             ('3', <owslib.map.wms111.ContentMetadata at 0x111938828>),\n",
       "             ('4', <owslib.map.wms111.ContentMetadata at 0x111938cf8>),\n",
       "             ('5', <owslib.map.wms111.ContentMetadata at 0x111938e10>),\n",
       "             ('6', <owslib.map.wms111.ContentMetadata at 0x111938f28>),\n",
       "             ('7', <owslib.map.wms111.ContentMetadata at 0x111941080>),\n",
       "             ('8', <owslib.map.wms111.ContentMetadata at 0x111941198>),\n",
       "             ('9', <owslib.map.wms111.ContentMetadata at 0x1119412b0>),\n",
       "             ('10', <owslib.map.wms111.ContentMetadata at 0x1119413c8>),\n",
       "             ('11', <owslib.map.wms111.ContentMetadata at 0x111941518>),\n",
       "             ('12', <owslib.map.wms111.ContentMetadata at 0x1119416a0>),\n",
       "             ('13', <owslib.map.wms111.ContentMetadata at 0x111941828>),\n",
       "             ('14', <owslib.map.wms111.ContentMetadata at 0x1119419b0>),\n",
       "             ('15', <owslib.map.wms111.ContentMetadata at 0x111941b38>)])"
      ]
     },
     "execution_count": 17,
     "metadata": {},
     "output_type": "execute_result"
    }
   ],
   "source": []
  },
  {
   "cell_type": "code",
   "execution_count": 30,
   "metadata": {},
   "outputs": [
    {
     "name": "stdout",
     "output_type": "stream",
     "text": [
      "0      Översiktliga, beräknat högsta flöde ['EPSG:4326', 'EPSG:3006']\n",
      "1               Översiktliga, 100-årsflöde ['EPSG:4326', 'EPSG:3006']\n",
      "2  Tvärsektioner, översiktliga karteringar ['EPSG:4326', 'EPSG:3006']\n",
      "3         Torne älv, beräknat högsta flöde ['EPSG:4326', 'EPSG:3006']\n",
      "4                  Torne älv, 250-årsflöde ['EPSG:4326', 'EPSG:3006']\n",
      "5                  Torne älv, 100-årsflöde ['EPSG:4326', 'EPSG:3006']\n",
      "6                 Torne älv, tvärsektioner ['EPSG:4326', 'EPSG:3006']\n",
      "7 Göta älv, 1400 m³/s (Motsvarande beräknat högsta flöde) ['EPSG:4326', 'EPSG:3006']\n",
      "8 Göta älv, 1200 m³/s (Motsvarande 200-årsflöde) ['EPSG:4326', 'EPSG:3006']\n",
      "9 Göta älv, 1030 m³/s (Motsvarande 100-årsflöde) ['EPSG:4326', 'EPSG:3006']\n",
      "10                  Göta älv, tvärsektioner ['EPSG:4326', 'EPSG:3006']\n",
      "11                    Beräknat högsta flöde ['EPSG:4326', 'EPSG:3006']\n",
      "12 200-årsflöde (Klimatanpassat flöde för slutet av seklet) ['EPSG:4326', 'EPSG:3006']\n",
      "13 100-årsflöde (Klimatanpassat flöde för slutet av seklet) ['EPSG:4326', 'EPSG:3006']\n",
      "14                            Tvärsektioner ['EPSG:4326', 'EPSG:3006']\n",
      "15 Översvämningskarterade vattendrag, översikt ['EPSG:4326', 'EPSG:3006']\n"
     ]
    }
   ],
   "source": [
    "url_swe = 'https://gisapp.msb.se/arcgis/services/Oversvamningskarteringar/karteringar/MapServer'\n",
    "wms_swe= WebMapService(url_swe+'/WMSServer')\n",
    "\n",
    "for layer_nb in wms_swe.contents:\n",
    "    print('%s %40s %s'%(layer_nb,wms_swe[layer_nb].title,wms_swe[layer_nb].crsOptions))"
   ]
  },
  {
   "cell_type": "code",
   "execution_count": 32,
   "metadata": {},
   "outputs": [
    {
     "name": "stdout",
     "output_type": "stream",
     "text": [
      "Saved FloodingMaps/FloodingSWE2020/200-årsflöde (Klimatanpassat flöde för slutet av seklet).png\n",
      "Saved FloodingMaps/FloodingSWE2020/100-årsflöde (Klimatanpassat flöde för slutet av seklet).png\n"
     ]
    },
    {
     "data": {
      "text/html": [
       "<div>\n",
       "<style scoped>\n",
       "    .dataframe tbody tr th:only-of-type {\n",
       "        vertical-align: middle;\n",
       "    }\n",
       "\n",
       "    .dataframe tbody tr th {\n",
       "        vertical-align: top;\n",
       "    }\n",
       "\n",
       "    .dataframe thead th {\n",
       "        text-align: right;\n",
       "    }\n",
       "</style>\n",
       "<table border=\"1\" class=\"dataframe\">\n",
       "  <thead>\n",
       "    <tr style=\"text-align: right;\">\n",
       "      <th></th>\n",
       "      <th>scenario</th>\n",
       "      <th>file</th>\n",
       "      <th>bbox</th>\n",
       "      <th>geo_zone</th>\n",
       "    </tr>\n",
       "  </thead>\n",
       "  <tbody>\n",
       "    <tr>\n",
       "      <th>0</th>\n",
       "      <td>200-years</td>\n",
       "      <td>FloodingMaps/FloodingSWE2020/200-årsflöde (Kli...</td>\n",
       "      <td>(10.424994, 55.472992, 23.711993, 67.43329)</td>\n",
       "      <td>SWE</td>\n",
       "    </tr>\n",
       "    <tr>\n",
       "      <th>1</th>\n",
       "      <td>100-years</td>\n",
       "      <td>FloodingMaps/FloodingSWE2020/100-årsflöde (Kli...</td>\n",
       "      <td>(10.255073, 55.472992, 24.032033, 68.288574)</td>\n",
       "      <td>SWE</td>\n",
       "    </tr>\n",
       "  </tbody>\n",
       "</table>\n",
       "</div>"
      ],
      "text/plain": [
       "    scenario                                               file  \\\n",
       "0  200-years  FloodingMaps/FloodingSWE2020/200-årsflöde (Kli...   \n",
       "1  100-years  FloodingMaps/FloodingSWE2020/100-årsflöde (Kli...   \n",
       "\n",
       "                                           bbox geo_zone  \n",
       "0   (10.424994, 55.472992, 23.711993, 67.43329)      SWE  \n",
       "1  (10.255073, 55.472992, 24.032033, 68.288574)      SWE  "
      ]
     },
     "execution_count": 32,
     "metadata": {},
     "output_type": "execute_result"
    }
   ],
   "source": [
    "# Create path\n",
    "dir_path = 'FloodingMaps/FloodingSWE2020/'\n",
    "if not os.path.exists(dir_path):\n",
    "    os.makedirs(dir_path)\n",
    "\n",
    "# save info\n",
    "file_scenario_list = []\n",
    "file_name_list = []\n",
    "bbox_list = []\n",
    "\n",
    "file_name,bbox = download_map(url_swe,layer='12',size=(4000,4000),crs='EPSG:4326',output_dir='FloodingMaps/FloodingSWE2020/')\n",
    "file_scenario_list.append('200-years')\n",
    "file_name_list.append(file_name)\n",
    "bbox_list.append(bbox)\n",
    "                                \n",
    "file_name,bbox = download_map(url_swe,layer='13',size=(4000,4000),crs='EPSG:4326',output_dir='FloodingMaps/FloodingSWE2020/')\n",
    "file_scenario_list.append('100-years')\n",
    "file_name_list.append(file_name)\n",
    "bbox_list.append(bbox)\n",
    "\n",
    "df_png = pd.DataFrame({'scenario':file_scenario_list,\n",
    "                       'file':file_name_list,\n",
    "                       'bbox':bbox_list,\n",
    "                       'geo_zone':['SWE']*2})\n",
    "df_png.to_csv('map_list_SWE_2020')\n",
    "df_png.tail(100)"
   ]
  }
 ],
 "metadata": {
  "kernelspec": {
   "display_name": "Python 3",
   "language": "python",
   "name": "python3"
  },
  "language_info": {
   "codemirror_mode": {
    "name": "ipython",
    "version": 3
   },
   "file_extension": ".py",
   "mimetype": "text/x-python",
   "name": "python",
   "nbconvert_exporter": "python",
   "pygments_lexer": "ipython3",
   "version": "3.7.1"
  }
 },
 "nbformat": 4,
 "nbformat_minor": 4
}
